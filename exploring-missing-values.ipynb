{
 "cells": [
  {
   "cell_type": "code",
   "execution_count": 2,
   "metadata": {},
   "outputs": [],
   "source": [
    "# Import Libraries\n",
    "\n",
    "import janitor\n",
    "import matplotlib.pyplot as plt\n",
    "import missingno\n",
    "import numpy as np\n",
    "import pandas as pd\n",
    "import pyreadr\n",
    "import seaborn as sns\n",
    "import session_info\n",
    "import upsetplot"
   ]
  },
  {
   "cell_type": "markdown",
   "metadata": {},
   "source": [
    "## Pandas Missing Extension"
   ]
  },
  {
   "cell_type": "code",
   "execution_count": 3,
   "metadata": {},
   "outputs": [],
   "source": [
    "%run pandas-missing-extension.ipynb"
   ]
  },
  {
   "cell_type": "code",
   "execution_count": 4,
   "metadata": {},
   "outputs": [],
   "source": [
    "# Settings\n",
    "%matplotlib inline\n",
    "\n",
    "pd.set_option('display.max_columns',None)\n",
    "pd.set_option('display.max_rows',200)\n",
    "pd.options.display.float_format= '{:.2f}'.format\n",
    "\n",
    "# Ignore Warnings\n",
    "import warnings\n",
    "warnings.filterwarnings('ignore')\n",
    "\n",
    "sns.set(\n",
    "    rc={\n",
    "        \"figure.figsize\": (10, 10)\n",
    "    }\n",
    ")\n",
    "\n",
    "sns.set_style(\"whitegrid\")"
   ]
  },
  {
   "attachments": {},
   "cell_type": "markdown",
   "metadata": {},
   "source": [
    "### Extract Data"
   ]
  },
  {
   "cell_type": "code",
   "execution_count": 5,
   "metadata": {},
   "outputs": [],
   "source": [
    "base_url = \"https://github.com/njtierney/naniar/raw/master/data/\"\n",
    "datasets_names = (\"oceanbuoys\", \"pedestrian\")\n",
    "extension = \".rda\""
   ]
  },
  {
   "cell_type": "code",
   "execution_count": 6,
   "metadata": {},
   "outputs": [
    {
     "data": {
      "text/plain": [
       "dict_keys(['df_oceanbuoys', 'df_pedestrian'])"
      ]
     },
     "execution_count": 6,
     "metadata": {},
     "output_type": "execute_result"
    }
   ],
   "source": [
    "datasets_dfs = {}\n",
    "\n",
    "for dataset_name in datasets_names:\n",
    "\n",
    "    dataset_file = f\"{ dataset_name }{ extension }\"\n",
    "    dataset_output_file = f\"./data/{ dataset_file }\"\n",
    "    dataset_url = f\"{ base_url }{ dataset_file }\"\n",
    "    \n",
    "    !wget -q -O { dataset_output_file } { dataset_url }\n",
    "\n",
    "    datasets_dfs[f\"df_{ dataset_name }\"] = pyreadr.read_r(dataset_output_file).get(dataset_name)\n",
    "\n",
    "datasets_dfs.keys()"
   ]
  },
  {
   "cell_type": "code",
   "execution_count": 7,
   "metadata": {},
   "outputs": [],
   "source": [
    "locals().update(**datasets_dfs)\n",
    "del datasets_dfs"
   ]
  },
  {
   "cell_type": "code",
   "execution_count": 8,
   "metadata": {},
   "outputs": [
    {
     "data": {
      "text/plain": [
       "(736, 8)"
      ]
     },
     "execution_count": 8,
     "metadata": {},
     "output_type": "execute_result"
    }
   ],
   "source": [
    "df_oceanbuoys.shape"
   ]
  },
  {
   "cell_type": "code",
   "execution_count": 9,
   "metadata": {},
   "outputs": [
    {
     "data": {
      "text/plain": [
       "year           0\n",
       "latitude       0\n",
       "longitude      0\n",
       "sea_temp_c     3\n",
       "air_temp_c    81\n",
       "humidity      93\n",
       "wind_ew        0\n",
       "wind_ns        0\n",
       "dtype: int64"
      ]
     },
     "execution_count": 9,
     "metadata": {},
     "output_type": "execute_result"
    }
   ],
   "source": [
    "df_oceanbuoys.isnull().sum()"
   ]
  },
  {
   "attachments": {},
   "cell_type": "markdown",
   "metadata": {},
   "source": [
    "En este análisis preliminar, notamos que existen 3 variables con valores nulos:  sea_temp_c, sea_temp_c y humidity\n",
    "\n",
    "The one how has more quantity of null values is Humidity (93 values)."
   ]
  },
  {
   "cell_type": "code",
   "execution_count": 10,
   "metadata": {},
   "outputs": [
    {
     "data": {
      "text/html": [
       "<div>\n",
       "<style scoped>\n",
       "    .dataframe tbody tr th:only-of-type {\n",
       "        vertical-align: middle;\n",
       "    }\n",
       "\n",
       "    .dataframe tbody tr th {\n",
       "        vertical-align: top;\n",
       "    }\n",
       "\n",
       "    .dataframe thead th {\n",
       "        text-align: right;\n",
       "    }\n",
       "</style>\n",
       "<table border=\"1\" class=\"dataframe\">\n",
       "  <thead>\n",
       "    <tr style=\"text-align: right;\">\n",
       "      <th></th>\n",
       "      <th>year</th>\n",
       "      <th>latitude</th>\n",
       "      <th>longitude</th>\n",
       "      <th>sea_temp_c</th>\n",
       "      <th>air_temp_c</th>\n",
       "      <th>humidity</th>\n",
       "      <th>wind_ew</th>\n",
       "      <th>wind_ns</th>\n",
       "    </tr>\n",
       "  </thead>\n",
       "  <tbody>\n",
       "    <tr>\n",
       "      <th>0</th>\n",
       "      <td>1997.00</td>\n",
       "      <td>0.00</td>\n",
       "      <td>-110.00</td>\n",
       "      <td>27.59</td>\n",
       "      <td>27.15</td>\n",
       "      <td>79.60</td>\n",
       "      <td>-6.40</td>\n",
       "      <td>5.40</td>\n",
       "    </tr>\n",
       "    <tr>\n",
       "      <th>1</th>\n",
       "      <td>1997.00</td>\n",
       "      <td>0.00</td>\n",
       "      <td>-110.00</td>\n",
       "      <td>27.55</td>\n",
       "      <td>27.02</td>\n",
       "      <td>75.80</td>\n",
       "      <td>-5.30</td>\n",
       "      <td>5.30</td>\n",
       "    </tr>\n",
       "    <tr>\n",
       "      <th>2</th>\n",
       "      <td>1997.00</td>\n",
       "      <td>0.00</td>\n",
       "      <td>-110.00</td>\n",
       "      <td>27.57</td>\n",
       "      <td>27.00</td>\n",
       "      <td>76.50</td>\n",
       "      <td>-5.10</td>\n",
       "      <td>4.50</td>\n",
       "    </tr>\n",
       "    <tr>\n",
       "      <th>3</th>\n",
       "      <td>1997.00</td>\n",
       "      <td>0.00</td>\n",
       "      <td>-110.00</td>\n",
       "      <td>27.62</td>\n",
       "      <td>26.93</td>\n",
       "      <td>76.20</td>\n",
       "      <td>-4.90</td>\n",
       "      <td>2.50</td>\n",
       "    </tr>\n",
       "    <tr>\n",
       "      <th>4</th>\n",
       "      <td>1997.00</td>\n",
       "      <td>0.00</td>\n",
       "      <td>-110.00</td>\n",
       "      <td>27.65</td>\n",
       "      <td>26.84</td>\n",
       "      <td>76.40</td>\n",
       "      <td>-3.50</td>\n",
       "      <td>4.10</td>\n",
       "    </tr>\n",
       "  </tbody>\n",
       "</table>\n",
       "</div>"
      ],
      "text/plain": [
       "     year  latitude  longitude  sea_temp_c  air_temp_c  humidity  wind_ew  \\\n",
       "0 1997.00      0.00    -110.00       27.59       27.15     79.60    -6.40   \n",
       "1 1997.00      0.00    -110.00       27.55       27.02     75.80    -5.30   \n",
       "2 1997.00      0.00    -110.00       27.57       27.00     76.50    -5.10   \n",
       "3 1997.00      0.00    -110.00       27.62       26.93     76.20    -4.90   \n",
       "4 1997.00      0.00    -110.00       27.65       26.84     76.40    -3.50   \n",
       "\n",
       "   wind_ns  \n",
       "0     5.40  \n",
       "1     5.30  \n",
       "2     4.50  \n",
       "3     2.50  \n",
       "4     4.10  "
      ]
     },
     "execution_count": 10,
     "metadata": {},
     "output_type": "execute_result"
    }
   ],
   "source": [
    "df_oceanbuoys.head()"
   ]
  },
  {
   "cell_type": "code",
   "execution_count": 11,
   "metadata": {},
   "outputs": [
    {
     "data": {
      "text/html": [
       "<div>\n",
       "<style scoped>\n",
       "    .dataframe tbody tr th:only-of-type {\n",
       "        vertical-align: middle;\n",
       "    }\n",
       "\n",
       "    .dataframe tbody tr th {\n",
       "        vertical-align: top;\n",
       "    }\n",
       "\n",
       "    .dataframe thead th {\n",
       "        text-align: right;\n",
       "    }\n",
       "</style>\n",
       "<table border=\"1\" class=\"dataframe\">\n",
       "  <thead>\n",
       "    <tr style=\"text-align: right;\">\n",
       "      <th></th>\n",
       "      <th>variable</th>\n",
       "      <th>n_missing</th>\n",
       "      <th>n_cases</th>\n",
       "      <th>pct_missing</th>\n",
       "    </tr>\n",
       "  </thead>\n",
       "  <tbody>\n",
       "    <tr>\n",
       "      <th>0</th>\n",
       "      <td>year</td>\n",
       "      <td>0</td>\n",
       "      <td>736</td>\n",
       "      <td>0.00</td>\n",
       "    </tr>\n",
       "    <tr>\n",
       "      <th>1</th>\n",
       "      <td>latitude</td>\n",
       "      <td>0</td>\n",
       "      <td>736</td>\n",
       "      <td>0.00</td>\n",
       "    </tr>\n",
       "    <tr>\n",
       "      <th>2</th>\n",
       "      <td>longitude</td>\n",
       "      <td>0</td>\n",
       "      <td>736</td>\n",
       "      <td>0.00</td>\n",
       "    </tr>\n",
       "    <tr>\n",
       "      <th>3</th>\n",
       "      <td>sea_temp_c</td>\n",
       "      <td>3</td>\n",
       "      <td>736</td>\n",
       "      <td>0.41</td>\n",
       "    </tr>\n",
       "    <tr>\n",
       "      <th>4</th>\n",
       "      <td>air_temp_c</td>\n",
       "      <td>81</td>\n",
       "      <td>736</td>\n",
       "      <td>11.01</td>\n",
       "    </tr>\n",
       "    <tr>\n",
       "      <th>5</th>\n",
       "      <td>humidity</td>\n",
       "      <td>93</td>\n",
       "      <td>736</td>\n",
       "      <td>12.64</td>\n",
       "    </tr>\n",
       "    <tr>\n",
       "      <th>6</th>\n",
       "      <td>wind_ew</td>\n",
       "      <td>0</td>\n",
       "      <td>736</td>\n",
       "      <td>0.00</td>\n",
       "    </tr>\n",
       "    <tr>\n",
       "      <th>7</th>\n",
       "      <td>wind_ns</td>\n",
       "      <td>0</td>\n",
       "      <td>736</td>\n",
       "      <td>0.00</td>\n",
       "    </tr>\n",
       "  </tbody>\n",
       "</table>\n",
       "</div>"
      ],
      "text/plain": [
       "     variable  n_missing  n_cases  pct_missing\n",
       "0        year          0      736         0.00\n",
       "1    latitude          0      736         0.00\n",
       "2   longitude          0      736         0.00\n",
       "3  sea_temp_c          3      736         0.41\n",
       "4  air_temp_c         81      736        11.01\n",
       "5    humidity         93      736        12.64\n",
       "6     wind_ew          0      736         0.00\n",
       "7     wind_ns          0      736         0.00"
      ]
     },
     "execution_count": 11,
     "metadata": {},
     "output_type": "execute_result"
    }
   ],
   "source": [
    "df_oceanbuoys.missing.missing_variable_summary()"
   ]
  },
  {
   "cell_type": "markdown",
   "metadata": {},
   "source": [
    "Humidity's null values represent almost 13% of the cases for this variable"
   ]
  },
  {
   "cell_type": "code",
   "execution_count": 14,
   "metadata": {},
   "outputs": [
    {
     "data": {
      "text/html": [
       "<div>\n",
       "<style scoped>\n",
       "    .dataframe tbody tr th:only-of-type {\n",
       "        vertical-align: middle;\n",
       "    }\n",
       "\n",
       "    .dataframe tbody tr th {\n",
       "        vertical-align: top;\n",
       "    }\n",
       "\n",
       "    .dataframe thead th {\n",
       "        text-align: right;\n",
       "    }\n",
       "</style>\n",
       "<table border=\"1\" class=\"dataframe\">\n",
       "  <thead>\n",
       "    <tr style=\"text-align: right;\">\n",
       "      <th></th>\n",
       "      <th>n_missing_in_variable</th>\n",
       "      <th>n_variables</th>\n",
       "      <th>pct_variables</th>\n",
       "    </tr>\n",
       "  </thead>\n",
       "  <tbody>\n",
       "    <tr>\n",
       "      <th>0</th>\n",
       "      <td>0</td>\n",
       "      <td>5</td>\n",
       "      <td>62.50</td>\n",
       "    </tr>\n",
       "    <tr>\n",
       "      <th>1</th>\n",
       "      <td>3</td>\n",
       "      <td>1</td>\n",
       "      <td>12.50</td>\n",
       "    </tr>\n",
       "    <tr>\n",
       "      <th>2</th>\n",
       "      <td>81</td>\n",
       "      <td>1</td>\n",
       "      <td>12.50</td>\n",
       "    </tr>\n",
       "    <tr>\n",
       "      <th>3</th>\n",
       "      <td>93</td>\n",
       "      <td>1</td>\n",
       "      <td>12.50</td>\n",
       "    </tr>\n",
       "  </tbody>\n",
       "</table>\n",
       "</div>"
      ],
      "text/plain": [
       "   n_missing_in_variable  n_variables  pct_variables\n",
       "0                      0            5          62.50\n",
       "1                      3            1          12.50\n",
       "2                     81            1          12.50\n",
       "3                     93            1          12.50"
      ]
     },
     "execution_count": 14,
     "metadata": {},
     "output_type": "execute_result"
    }
   ],
   "source": [
    "df_oceanbuoys.missing.missing_variable_table()"
   ]
  },
  {
   "cell_type": "code",
   "execution_count": 16,
   "metadata": {},
   "outputs": [
    {
     "data": {
      "text/html": [
       "<div>\n",
       "<style scoped>\n",
       "    .dataframe tbody tr th:only-of-type {\n",
       "        vertical-align: middle;\n",
       "    }\n",
       "\n",
       "    .dataframe tbody tr th {\n",
       "        vertical-align: top;\n",
       "    }\n",
       "\n",
       "    .dataframe thead th {\n",
       "        text-align: right;\n",
       "    }\n",
       "</style>\n",
       "<table border=\"1\" class=\"dataframe\">\n",
       "  <thead>\n",
       "    <tr style=\"text-align: right;\">\n",
       "      <th></th>\n",
       "      <th>case</th>\n",
       "      <th>n_missing</th>\n",
       "      <th>pct_missing</th>\n",
       "    </tr>\n",
       "  </thead>\n",
       "  <tbody>\n",
       "    <tr>\n",
       "      <th>480</th>\n",
       "      <td>480</td>\n",
       "      <td>3</td>\n",
       "      <td>30.00</td>\n",
       "    </tr>\n",
       "    <tr>\n",
       "      <th>462</th>\n",
       "      <td>462</td>\n",
       "      <td>3</td>\n",
       "      <td>30.00</td>\n",
       "    </tr>\n",
       "    <tr>\n",
       "      <th>636</th>\n",
       "      <td>636</td>\n",
       "      <td>2</td>\n",
       "      <td>20.00</td>\n",
       "    </tr>\n",
       "    <tr>\n",
       "      <th>459</th>\n",
       "      <td>459</td>\n",
       "      <td>2</td>\n",
       "      <td>20.00</td>\n",
       "    </tr>\n",
       "    <tr>\n",
       "      <th>121</th>\n",
       "      <td>121</td>\n",
       "      <td>1</td>\n",
       "      <td>10.00</td>\n",
       "    </tr>\n",
       "    <tr>\n",
       "      <th>...</th>\n",
       "      <td>...</td>\n",
       "      <td>...</td>\n",
       "      <td>...</td>\n",
       "    </tr>\n",
       "    <tr>\n",
       "      <th>297</th>\n",
       "      <td>297</td>\n",
       "      <td>0</td>\n",
       "      <td>0.00</td>\n",
       "    </tr>\n",
       "    <tr>\n",
       "      <th>298</th>\n",
       "      <td>298</td>\n",
       "      <td>0</td>\n",
       "      <td>0.00</td>\n",
       "    </tr>\n",
       "    <tr>\n",
       "      <th>299</th>\n",
       "      <td>299</td>\n",
       "      <td>0</td>\n",
       "      <td>0.00</td>\n",
       "    </tr>\n",
       "    <tr>\n",
       "      <th>300</th>\n",
       "      <td>300</td>\n",
       "      <td>0</td>\n",
       "      <td>0.00</td>\n",
       "    </tr>\n",
       "    <tr>\n",
       "      <th>735</th>\n",
       "      <td>735</td>\n",
       "      <td>0</td>\n",
       "      <td>0.00</td>\n",
       "    </tr>\n",
       "  </tbody>\n",
       "</table>\n",
       "<p>736 rows × 3 columns</p>\n",
       "</div>"
      ],
      "text/plain": [
       "     case  n_missing  pct_missing\n",
       "480   480          3        30.00\n",
       "462   462          3        30.00\n",
       "636   636          2        20.00\n",
       "459   459          2        20.00\n",
       "121   121          1        10.00\n",
       "..    ...        ...          ...\n",
       "297   297          0         0.00\n",
       "298   298          0         0.00\n",
       "299   299          0         0.00\n",
       "300   300          0         0.00\n",
       "735   735          0         0.00\n",
       "\n",
       "[736 rows x 3 columns]"
      ]
     },
     "execution_count": 16,
     "metadata": {},
     "output_type": "execute_result"
    }
   ],
   "source": [
    "df_oceanbuoys.missing.missing_case_summary().sort_values(by='n_missing', ascending=False)"
   ]
  },
  {
   "cell_type": "code",
   "execution_count": 33,
   "metadata": {},
   "outputs": [
    {
     "data": {
      "text/plain": [
       "year         1993.00\n",
       "latitude       -2.00\n",
       "longitude     -95.00\n",
       "sea_temp_c       NaN\n",
       "air_temp_c       NaN\n",
       "humidity       89.90\n",
       "wind_ew        -3.40\n",
       "wind_ns         2.40\n",
       "Name: 636, dtype: float64"
      ]
     },
     "execution_count": 33,
     "metadata": {},
     "output_type": "execute_result"
    }
   ],
   "source": [
    "df_oceanbuoys.iloc[636]"
   ]
  },
  {
   "cell_type": "code",
   "execution_count": 22,
   "metadata": {},
   "outputs": [
    {
     "data": {
      "text/plain": [
       "year         1993.00\n",
       "latitude        0.00\n",
       "longitude     -95.00\n",
       "sea_temp_c       NaN\n",
       "air_temp_c       NaN\n",
       "humidity         NaN\n",
       "wind_ew        -6.30\n",
       "wind_ns         0.50\n",
       "Name: 480, dtype: float64"
      ]
     },
     "execution_count": 22,
     "metadata": {},
     "output_type": "execute_result"
    }
   ],
   "source": [
    "df_oceanbuoys.iloc[480]"
   ]
  },
  {
   "cell_type": "code",
   "execution_count": 23,
   "metadata": {},
   "outputs": [
    {
     "data": {
      "text/plain": [
       "year         1993.00\n",
       "latitude        0.00\n",
       "longitude     -95.00\n",
       "sea_temp_c       NaN\n",
       "air_temp_c       NaN\n",
       "humidity         NaN\n",
       "wind_ew        -5.60\n",
       "wind_ns         3.10\n",
       "Name: 462, dtype: float64"
      ]
     },
     "execution_count": 23,
     "metadata": {},
     "output_type": "execute_result"
    }
   ],
   "source": [
    "df_oceanbuoys.iloc[462]"
   ]
  },
  {
   "attachments": {},
   "cell_type": "markdown",
   "metadata": {},
   "source": [
    "In all the cases that the varioable \"sea_temp_c\" is null, \"air_temp_c\" is also null.\n",
    "\n",
    "That could be an important finding because it could be a Missing Not at Random (MNAR) behabior. "
   ]
  },
  {
   "cell_type": "code",
   "execution_count": 31,
   "metadata": {},
   "outputs": [
    {
     "data": {
      "text/html": [
       "<div>\n",
       "<style scoped>\n",
       "    .dataframe tbody tr th:only-of-type {\n",
       "        vertical-align: middle;\n",
       "    }\n",
       "\n",
       "    .dataframe tbody tr th {\n",
       "        vertical-align: top;\n",
       "    }\n",
       "\n",
       "    .dataframe thead th {\n",
       "        text-align: right;\n",
       "    }\n",
       "</style>\n",
       "<table border=\"1\" class=\"dataframe\">\n",
       "  <thead>\n",
       "    <tr style=\"text-align: right;\">\n",
       "      <th></th>\n",
       "      <th>span_counter</th>\n",
       "      <th>n_missing</th>\n",
       "      <th>n_complete</th>\n",
       "      <th>pct_missing</th>\n",
       "      <th>pct_complete</th>\n",
       "    </tr>\n",
       "  </thead>\n",
       "  <tbody>\n",
       "    <tr>\n",
       "      <th>0</th>\n",
       "      <td>0</td>\n",
       "      <td>0</td>\n",
       "      <td>60</td>\n",
       "      <td>0.00</td>\n",
       "      <td>100.00</td>\n",
       "    </tr>\n",
       "    <tr>\n",
       "      <th>1</th>\n",
       "      <td>1</td>\n",
       "      <td>0</td>\n",
       "      <td>60</td>\n",
       "      <td>0.00</td>\n",
       "      <td>100.00</td>\n",
       "    </tr>\n",
       "    <tr>\n",
       "      <th>2</th>\n",
       "      <td>2</td>\n",
       "      <td>0</td>\n",
       "      <td>60</td>\n",
       "      <td>0.00</td>\n",
       "      <td>100.00</td>\n",
       "    </tr>\n",
       "    <tr>\n",
       "      <th>3</th>\n",
       "      <td>3</td>\n",
       "      <td>0</td>\n",
       "      <td>60</td>\n",
       "      <td>0.00</td>\n",
       "      <td>100.00</td>\n",
       "    </tr>\n",
       "    <tr>\n",
       "      <th>4</th>\n",
       "      <td>4</td>\n",
       "      <td>0</td>\n",
       "      <td>60</td>\n",
       "      <td>0.00</td>\n",
       "      <td>100.00</td>\n",
       "    </tr>\n",
       "    <tr>\n",
       "      <th>5</th>\n",
       "      <td>5</td>\n",
       "      <td>0</td>\n",
       "      <td>60</td>\n",
       "      <td>0.00</td>\n",
       "      <td>100.00</td>\n",
       "    </tr>\n",
       "    <tr>\n",
       "      <th>6</th>\n",
       "      <td>6</td>\n",
       "      <td>0</td>\n",
       "      <td>60</td>\n",
       "      <td>0.00</td>\n",
       "      <td>100.00</td>\n",
       "    </tr>\n",
       "    <tr>\n",
       "      <th>7</th>\n",
       "      <td>7</td>\n",
       "      <td>21</td>\n",
       "      <td>39</td>\n",
       "      <td>35.00</td>\n",
       "      <td>65.00</td>\n",
       "    </tr>\n",
       "    <tr>\n",
       "      <th>8</th>\n",
       "      <td>8</td>\n",
       "      <td>60</td>\n",
       "      <td>0</td>\n",
       "      <td>100.00</td>\n",
       "      <td>0.00</td>\n",
       "    </tr>\n",
       "    <tr>\n",
       "      <th>9</th>\n",
       "      <td>9</td>\n",
       "      <td>12</td>\n",
       "      <td>48</td>\n",
       "      <td>20.00</td>\n",
       "      <td>80.00</td>\n",
       "    </tr>\n",
       "    <tr>\n",
       "      <th>10</th>\n",
       "      <td>10</td>\n",
       "      <td>0</td>\n",
       "      <td>60</td>\n",
       "      <td>0.00</td>\n",
       "      <td>100.00</td>\n",
       "    </tr>\n",
       "    <tr>\n",
       "      <th>11</th>\n",
       "      <td>11</td>\n",
       "      <td>0</td>\n",
       "      <td>60</td>\n",
       "      <td>0.00</td>\n",
       "      <td>100.00</td>\n",
       "    </tr>\n",
       "    <tr>\n",
       "      <th>12</th>\n",
       "      <td>12</td>\n",
       "      <td>0</td>\n",
       "      <td>16</td>\n",
       "      <td>0.00</td>\n",
       "      <td>100.00</td>\n",
       "    </tr>\n",
       "  </tbody>\n",
       "</table>\n",
       "</div>"
      ],
      "text/plain": [
       "    span_counter  n_missing  n_complete  pct_missing  pct_complete\n",
       "0              0          0          60         0.00        100.00\n",
       "1              1          0          60         0.00        100.00\n",
       "2              2          0          60         0.00        100.00\n",
       "3              3          0          60         0.00        100.00\n",
       "4              4          0          60         0.00        100.00\n",
       "5              5          0          60         0.00        100.00\n",
       "6              6          0          60         0.00        100.00\n",
       "7              7         21          39        35.00         65.00\n",
       "8              8         60           0       100.00          0.00\n",
       "9              9         12          48        20.00         80.00\n",
       "10            10          0          60         0.00        100.00\n",
       "11            11          0          60         0.00        100.00\n",
       "12            12          0          16         0.00        100.00"
      ]
     },
     "execution_count": 31,
     "metadata": {},
     "output_type": "execute_result"
    }
   ],
   "source": [
    "(\n",
    "    df_oceanbuoys.missing.missing_variable_span(\n",
    "        variable='humidity',\n",
    "        span_every=60\n",
    "    )\n",
    ")"
   ]
  },
  {
   "cell_type": "markdown",
   "metadata": {},
   "source": [
    "Here we can see that the null values are grouping at bins 7,8,9 (groupping by 60)"
   ]
  },
  {
   "cell_type": "code",
   "execution_count": 34,
   "metadata": {},
   "outputs": [
    {
     "data": {
      "text/html": [
       "<div>\n",
       "<style scoped>\n",
       "    .dataframe tbody tr th:only-of-type {\n",
       "        vertical-align: middle;\n",
       "    }\n",
       "\n",
       "    .dataframe tbody tr th {\n",
       "        vertical-align: top;\n",
       "    }\n",
       "\n",
       "    .dataframe thead th {\n",
       "        text-align: right;\n",
       "    }\n",
       "</style>\n",
       "<table border=\"1\" class=\"dataframe\">\n",
       "  <thead>\n",
       "    <tr style=\"text-align: right;\">\n",
       "      <th></th>\n",
       "      <th>run_length</th>\n",
       "      <th>is_na</th>\n",
       "    </tr>\n",
       "  </thead>\n",
       "  <tbody>\n",
       "    <tr>\n",
       "      <th>0</th>\n",
       "      <td>459</td>\n",
       "      <td>complete</td>\n",
       "    </tr>\n",
       "    <tr>\n",
       "      <th>1</th>\n",
       "      <td>93</td>\n",
       "      <td>missing</td>\n",
       "    </tr>\n",
       "    <tr>\n",
       "      <th>2</th>\n",
       "      <td>184</td>\n",
       "      <td>complete</td>\n",
       "    </tr>\n",
       "  </tbody>\n",
       "</table>\n",
       "</div>"
      ],
      "text/plain": [
       "   run_length     is_na\n",
       "0         459  complete\n",
       "1          93   missing\n",
       "2         184  complete"
      ]
     },
     "execution_count": 34,
     "metadata": {},
     "output_type": "execute_result"
    }
   ],
   "source": [
    "(\n",
    "    df_oceanbuoys.missing.missing_variable_run(\n",
    "        variable='humidity',\n",
    "        \n",
    "    )\n",
    ")"
   ]
  },
  {
   "cell_type": "code",
   "execution_count": 35,
   "metadata": {},
   "outputs": [
    {
     "data": {
      "text/html": [
       "<div>\n",
       "<style scoped>\n",
       "    .dataframe tbody tr th:only-of-type {\n",
       "        vertical-align: middle;\n",
       "    }\n",
       "\n",
       "    .dataframe tbody tr th {\n",
       "        vertical-align: top;\n",
       "    }\n",
       "\n",
       "    .dataframe thead th {\n",
       "        text-align: right;\n",
       "    }\n",
       "</style>\n",
       "<table border=\"1\" class=\"dataframe\">\n",
       "  <thead>\n",
       "    <tr style=\"text-align: right;\">\n",
       "      <th></th>\n",
       "      <th>run_length</th>\n",
       "      <th>is_na</th>\n",
       "    </tr>\n",
       "  </thead>\n",
       "  <tbody>\n",
       "    <tr>\n",
       "      <th>0</th>\n",
       "      <td>107</td>\n",
       "      <td>complete</td>\n",
       "    </tr>\n",
       "    <tr>\n",
       "      <th>1</th>\n",
       "      <td>77</td>\n",
       "      <td>missing</td>\n",
       "    </tr>\n",
       "    <tr>\n",
       "      <th>2</th>\n",
       "      <td>275</td>\n",
       "      <td>complete</td>\n",
       "    </tr>\n",
       "    <tr>\n",
       "      <th>3</th>\n",
       "      <td>1</td>\n",
       "      <td>missing</td>\n",
       "    </tr>\n",
       "    <tr>\n",
       "      <th>4</th>\n",
       "      <td>2</td>\n",
       "      <td>complete</td>\n",
       "    </tr>\n",
       "    <tr>\n",
       "      <th>5</th>\n",
       "      <td>1</td>\n",
       "      <td>missing</td>\n",
       "    </tr>\n",
       "    <tr>\n",
       "      <th>6</th>\n",
       "      <td>17</td>\n",
       "      <td>complete</td>\n",
       "    </tr>\n",
       "    <tr>\n",
       "      <th>7</th>\n",
       "      <td>1</td>\n",
       "      <td>missing</td>\n",
       "    </tr>\n",
       "    <tr>\n",
       "      <th>8</th>\n",
       "      <td>155</td>\n",
       "      <td>complete</td>\n",
       "    </tr>\n",
       "    <tr>\n",
       "      <th>9</th>\n",
       "      <td>1</td>\n",
       "      <td>missing</td>\n",
       "    </tr>\n",
       "    <tr>\n",
       "      <th>10</th>\n",
       "      <td>99</td>\n",
       "      <td>complete</td>\n",
       "    </tr>\n",
       "  </tbody>\n",
       "</table>\n",
       "</div>"
      ],
      "text/plain": [
       "    run_length     is_na\n",
       "0          107  complete\n",
       "1           77   missing\n",
       "2          275  complete\n",
       "3            1   missing\n",
       "4            2  complete\n",
       "5            1   missing\n",
       "6           17  complete\n",
       "7            1   missing\n",
       "8          155  complete\n",
       "9            1   missing\n",
       "10          99  complete"
      ]
     },
     "execution_count": 35,
     "metadata": {},
     "output_type": "execute_result"
    }
   ],
   "source": [
    "(\n",
    "    df_oceanbuoys.missing.missing_variable_run(\n",
    "        variable='air_temp_c',\n",
    "        \n",
    "    )\n",
    ")"
   ]
  },
  {
   "attachments": {},
   "cell_type": "markdown",
   "metadata": {},
   "source": [
    "For the Humidity variable, we have 459 records complete follow by 93 missing values.\n",
    "\n",
    "For the air_temp variable, the missing records are a bit more scatted. But after 107 complete records, we have 77 missing values. That reperent the 95% of the total missing values."
   ]
  },
  {
   "cell_type": "code",
   "execution_count": 37,
   "metadata": {},
   "outputs": [
    {
     "data": {
      "image/png": "[encoded data removed]",
      "text/plain": [
       "<Figure size 500x500 with 1 Axes>"
      ]
     },
     "metadata": {},
     "output_type": "display_data"
    }
   ],
   "source": [
    "df_oceanbuoys.missing.missing_case_plot()"
   ]
  },
  {
   "cell_type": "code",
   "execution_count": 40,
   "metadata": {},
   "outputs": [
    {
     "data": {
      "image/png": "[encoded data removed]",
      "text/plain": [
       "<Figure size 500x375 with 4 Axes>"
      ]
     },
     "metadata": {},
     "output_type": "display_data"
    }
   ],
   "source": [
    "(\n",
    "    df_oceanbuoys\n",
    "    .missing\n",
    "    .missing_upsetplot(\n",
    "        variables=['sea_temp_c', 'air_temp_c', 'humidity'], # None para mostrar la relacion de todas las variables\n",
    "        element_size = 30  # tamaño de la visualizacion\n",
    "    )\n",
    ")\n",
    "plt.show()"
   ]
  },
  {
   "cell_type": "code",
   "execution_count": 41,
   "metadata": {},
   "outputs": [
    {
     "data": {
      "text/plain": [
       "<AxesSubplot:>"
      ]
     },
     "execution_count": 41,
     "metadata": {},
     "output_type": "execute_result"
    },
    {
     "data": {
      "image/png": "[encoded data removed]",
      "text/plain": [
       "<Figure size 2500x1000 with 2 Axes>"
      ]
     },
     "metadata": {},
     "output_type": "display_data"
    }
   ],
   "source": [
    "missingno.matrix(df = df_oceanbuoys)"
   ]
  },
  {
   "attachments": {},
   "cell_type": "markdown",
   "metadata": {},
   "source": [
    "## Shadow Matrix"
   ]
  },
  {
   "cell_type": "code",
   "execution_count": 43,
   "metadata": {},
   "outputs": [
    {
     "data": {
      "text/html": [
       "<div>\n",
       "<style scoped>\n",
       "    .dataframe tbody tr th:only-of-type {\n",
       "        vertical-align: middle;\n",
       "    }\n",
       "\n",
       "    .dataframe tbody tr th {\n",
       "        vertical-align: top;\n",
       "    }\n",
       "\n",
       "    .dataframe thead th {\n",
       "        text-align: right;\n",
       "    }\n",
       "</style>\n",
       "<table border=\"1\" class=\"dataframe\">\n",
       "  <thead>\n",
       "    <tr style=\"text-align: right;\">\n",
       "      <th></th>\n",
       "      <th>year</th>\n",
       "      <th>latitude</th>\n",
       "      <th>longitude</th>\n",
       "      <th>sea_temp_c</th>\n",
       "      <th>air_temp_c</th>\n",
       "      <th>humidity</th>\n",
       "      <th>wind_ew</th>\n",
       "      <th>wind_ns</th>\n",
       "      <th>sea_temp_c_NA</th>\n",
       "      <th>air_temp_c_NA</th>\n",
       "      <th>humidity_NA</th>\n",
       "    </tr>\n",
       "  </thead>\n",
       "  <tbody>\n",
       "    <tr>\n",
       "      <th>0</th>\n",
       "      <td>1997.00</td>\n",
       "      <td>0.00</td>\n",
       "      <td>-110.00</td>\n",
       "      <td>27.59</td>\n",
       "      <td>27.15</td>\n",
       "      <td>79.60</td>\n",
       "      <td>-6.40</td>\n",
       "      <td>5.40</td>\n",
       "      <td>Not Missing</td>\n",
       "      <td>Not Missing</td>\n",
       "      <td>Not Missing</td>\n",
       "    </tr>\n",
       "    <tr>\n",
       "      <th>1</th>\n",
       "      <td>1997.00</td>\n",
       "      <td>0.00</td>\n",
       "      <td>-110.00</td>\n",
       "      <td>27.55</td>\n",
       "      <td>27.02</td>\n",
       "      <td>75.80</td>\n",
       "      <td>-5.30</td>\n",
       "      <td>5.30</td>\n",
       "      <td>Not Missing</td>\n",
       "      <td>Not Missing</td>\n",
       "      <td>Not Missing</td>\n",
       "    </tr>\n",
       "    <tr>\n",
       "      <th>2</th>\n",
       "      <td>1997.00</td>\n",
       "      <td>0.00</td>\n",
       "      <td>-110.00</td>\n",
       "      <td>27.57</td>\n",
       "      <td>27.00</td>\n",
       "      <td>76.50</td>\n",
       "      <td>-5.10</td>\n",
       "      <td>4.50</td>\n",
       "      <td>Not Missing</td>\n",
       "      <td>Not Missing</td>\n",
       "      <td>Not Missing</td>\n",
       "    </tr>\n",
       "    <tr>\n",
       "      <th>3</th>\n",
       "      <td>1997.00</td>\n",
       "      <td>0.00</td>\n",
       "      <td>-110.00</td>\n",
       "      <td>27.62</td>\n",
       "      <td>26.93</td>\n",
       "      <td>76.20</td>\n",
       "      <td>-4.90</td>\n",
       "      <td>2.50</td>\n",
       "      <td>Not Missing</td>\n",
       "      <td>Not Missing</td>\n",
       "      <td>Not Missing</td>\n",
       "    </tr>\n",
       "    <tr>\n",
       "      <th>4</th>\n",
       "      <td>1997.00</td>\n",
       "      <td>0.00</td>\n",
       "      <td>-110.00</td>\n",
       "      <td>27.65</td>\n",
       "      <td>26.84</td>\n",
       "      <td>76.40</td>\n",
       "      <td>-3.50</td>\n",
       "      <td>4.10</td>\n",
       "      <td>Not Missing</td>\n",
       "      <td>Not Missing</td>\n",
       "      <td>Not Missing</td>\n",
       "    </tr>\n",
       "    <tr>\n",
       "      <th>...</th>\n",
       "      <td>...</td>\n",
       "      <td>...</td>\n",
       "      <td>...</td>\n",
       "      <td>...</td>\n",
       "      <td>...</td>\n",
       "      <td>...</td>\n",
       "      <td>...</td>\n",
       "      <td>...</td>\n",
       "      <td>...</td>\n",
       "      <td>...</td>\n",
       "      <td>...</td>\n",
       "    </tr>\n",
       "    <tr>\n",
       "      <th>731</th>\n",
       "      <td>1993.00</td>\n",
       "      <td>-2.00</td>\n",
       "      <td>-110.00</td>\n",
       "      <td>24.78</td>\n",
       "      <td>24.62</td>\n",
       "      <td>90.80</td>\n",
       "      <td>-4.40</td>\n",
       "      <td>1.70</td>\n",
       "      <td>Not Missing</td>\n",
       "      <td>Not Missing</td>\n",
       "      <td>Not Missing</td>\n",
       "    </tr>\n",
       "    <tr>\n",
       "      <th>732</th>\n",
       "      <td>1993.00</td>\n",
       "      <td>-2.00</td>\n",
       "      <td>-110.00</td>\n",
       "      <td>24.88</td>\n",
       "      <td>24.50</td>\n",
       "      <td>91.10</td>\n",
       "      <td>-3.00</td>\n",
       "      <td>0.20</td>\n",
       "      <td>Not Missing</td>\n",
       "      <td>Not Missing</td>\n",
       "      <td>Not Missing</td>\n",
       "    </tr>\n",
       "    <tr>\n",
       "      <th>733</th>\n",
       "      <td>1993.00</td>\n",
       "      <td>-2.00</td>\n",
       "      <td>-110.00</td>\n",
       "      <td>25.12</td>\n",
       "      <td>24.89</td>\n",
       "      <td>89.70</td>\n",
       "      <td>-4.00</td>\n",
       "      <td>1.10</td>\n",
       "      <td>Not Missing</td>\n",
       "      <td>Not Missing</td>\n",
       "      <td>Not Missing</td>\n",
       "    </tr>\n",
       "    <tr>\n",
       "      <th>734</th>\n",
       "      <td>1993.00</td>\n",
       "      <td>-2.00</td>\n",
       "      <td>-110.00</td>\n",
       "      <td>25.16</td>\n",
       "      <td>24.93</td>\n",
       "      <td>89.50</td>\n",
       "      <td>-4.30</td>\n",
       "      <td>2.50</td>\n",
       "      <td>Not Missing</td>\n",
       "      <td>Not Missing</td>\n",
       "      <td>Not Missing</td>\n",
       "    </tr>\n",
       "    <tr>\n",
       "      <th>735</th>\n",
       "      <td>1993.00</td>\n",
       "      <td>-2.00</td>\n",
       "      <td>-110.00</td>\n",
       "      <td>25.14</td>\n",
       "      <td>24.77</td>\n",
       "      <td>87.90</td>\n",
       "      <td>-4.60</td>\n",
       "      <td>2.30</td>\n",
       "      <td>Not Missing</td>\n",
       "      <td>Not Missing</td>\n",
       "      <td>Not Missing</td>\n",
       "    </tr>\n",
       "  </tbody>\n",
       "</table>\n",
       "<p>736 rows × 11 columns</p>\n",
       "</div>"
      ],
      "text/plain": [
       "       year  latitude  longitude  sea_temp_c  air_temp_c  humidity  wind_ew  \\\n",
       "0   1997.00      0.00    -110.00       27.59       27.15     79.60    -6.40   \n",
       "1   1997.00      0.00    -110.00       27.55       27.02     75.80    -5.30   \n",
       "2   1997.00      0.00    -110.00       27.57       27.00     76.50    -5.10   \n",
       "3   1997.00      0.00    -110.00       27.62       26.93     76.20    -4.90   \n",
       "4   1997.00      0.00    -110.00       27.65       26.84     76.40    -3.50   \n",
       "..      ...       ...        ...         ...         ...       ...      ...   \n",
       "731 1993.00     -2.00    -110.00       24.78       24.62     90.80    -4.40   \n",
       "732 1993.00     -2.00    -110.00       24.88       24.50     91.10    -3.00   \n",
       "733 1993.00     -2.00    -110.00       25.12       24.89     89.70    -4.00   \n",
       "734 1993.00     -2.00    -110.00       25.16       24.93     89.50    -4.30   \n",
       "735 1993.00     -2.00    -110.00       25.14       24.77     87.90    -4.60   \n",
       "\n",
       "     wind_ns sea_temp_c_NA air_temp_c_NA  humidity_NA  \n",
       "0       5.40   Not Missing   Not Missing  Not Missing  \n",
       "1       5.30   Not Missing   Not Missing  Not Missing  \n",
       "2       4.50   Not Missing   Not Missing  Not Missing  \n",
       "3       2.50   Not Missing   Not Missing  Not Missing  \n",
       "4       4.10   Not Missing   Not Missing  Not Missing  \n",
       "..       ...           ...           ...          ...  \n",
       "731     1.70   Not Missing   Not Missing  Not Missing  \n",
       "732     0.20   Not Missing   Not Missing  Not Missing  \n",
       "733     1.10   Not Missing   Not Missing  Not Missing  \n",
       "734     2.50   Not Missing   Not Missing  Not Missing  \n",
       "735     2.30   Not Missing   Not Missing  Not Missing  \n",
       "\n",
       "[736 rows x 11 columns]"
      ]
     },
     "execution_count": 43,
     "metadata": {},
     "output_type": "execute_result"
    }
   ],
   "source": [
    "(\n",
    "    df_oceanbuoys\n",
    "    .missing\n",
    "    .bind_shadow_matrix(only_missing=True) # con este parámetro = True solo se pasaran las variables que tienen valores faltantes\n",
    ")"
   ]
  },
  {
   "cell_type": "code",
   "execution_count": 46,
   "metadata": {},
   "outputs": [
    {
     "data": {
      "text/plain": [
       "<seaborn.axisgrid.FacetGrid at 0x7f18414e9070>"
      ]
     },
     "execution_count": 46,
     "metadata": {},
     "output_type": "execute_result"
    },
    {
     "data": {
      "image/png": "[encoded data removed]",
      "text/plain": [
       "<Figure size 643.625x500 with 1 Axes>"
      ]
     },
     "metadata": {},
     "output_type": "display_data"
    }
   ],
   "source": [
    "(\n",
    "    df_oceanbuoys\n",
    "    .missing.bind_shadow_matrix(only_missing=True)\n",
    "    .pipe(\n",
    "lambda df: (\n",
    "            sns.displot(\n",
    "                data=df,\n",
    "                x = 'sea_temp_c', #variable de distribucion\n",
    "                hue = 'humidity_NA',  #variable de comparacion\n",
    "                kind= 'kde' #distribucion de densidad\n",
    "            )\n",
    "        )\n",
    "    )\n",
    ")"
   ]
  },
  {
   "cell_type": "code",
   "execution_count": null,
   "metadata": {},
   "outputs": [],
   "source": []
  }
 ],
 "metadata": {
  "kernelspec": {
   "display_name": "dataanalysis",
   "language": "python",
   "name": "python3"
  },
  "language_info": {
   "codemirror_mode": {
    "name": "ipython",
    "version": 3
   },
   "file_extension": ".py",
   "mimetype": "text/x-python",
   "name": "python",
   "nbconvert_exporter": "python",
   "pygments_lexer": "ipython3",
   "version": "3.8.10"
  },
  "orig_nbformat": 4,
  "vscode": {
   "interpreter": {
    "hash": "99e46d54735f08ed1fd2dfc9d656d5f3707ada3ddba6c36f34226b17d2f86baa"
   }
  }
 },
 "nbformat": 4,
 "nbformat_minor": 2
}
